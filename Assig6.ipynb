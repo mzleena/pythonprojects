{
 "cells": [
  {
   "cell_type": "code",
   "execution_count": null,
   "metadata": {},
   "outputs": [],
   "source": [
    "\n",
    "\n",
    "\n",
    "### Remove DC offset from signal\n"
   ]
  },
  {
   "cell_type": "code",
   "execution_count": null,
   "metadata": {},
   "outputs": [],
   "source": [
    "\n",
    "from __future__ import division      # so, 1/2 == 0.5 (forces real-valued division)\n",
    "%pylab inline\n",
    "#rcParams['figure.figsize'] = (10,4) #wide graphs by default\n",
    "import numpy as np\n",
    "import matplotlib\n",
    "from matplotlib.colors import hsv_to_rgb"
   ]
  },
  {
   "cell_type": "code",
   "execution_count": null,
   "metadata": {},
   "outputs": [],
   "source": [
    "from scipy.io import wavfile\n",
    "from scipy.signal import freqs\n",
    " \n",
    " # pick one file name:\n",
    " \n",
    "fName = ('media/assassin.wav')\n",
    " \n",
    "fs, signal = wavfile.read(fName)\n",
    "signal = signal / max(abs(signal))                        # scale signal\n",
    "assert min(signal) >= -1 and max(signal) <= 1\n",
    "print ('fs           ==> ', fs, 'Hz')                       # sampling rate\n",
    "print ('len(signal)  ==> ', len(signal), 'samples')"
   ]
  },
  {
   "cell_type": "code",
   "execution_count": null,
   "metadata": {},
   "outputs": [],
   "source": [
    "from numpy import linspace\n",
    " \n",
    "_, (sp1, sp2) = plt.subplots(1, 2, figsize=(16, 4))\n",
    " \n",
    " # plot raw signal\n",
    "sp1.plot(signal)\n",
    "sp1.set_title('Raw Signal')\n",
    "sp1.set_xlabel('SAMPLE\\n(a)')\n",
    "sp1.autoscale(tight='both')\n",
    " \n",
    " # plot spectrogram\n",
    "spectrum, _, _, _ = sp2.specgram(signal, Fs=fs)\n",
    "colorbar()\n",
    "pass\n",
    "sp2.set_title('Spectogram')\n",
    "sp2.set_xlabel('TIME\\n(b)')\n",
    "nSecs = (len(signal) / fs)\n",
    "ticksPerSec = 3\n",
    "nTicks = nSecs * ticksPerSec + 1                # add 1 to include time=0\n",
    "xTickMax = sp2.get_xticks()[-1]\n",
    "sp2.set_xticks(linspace(0, xTickMax, nTicks))\n",
    "sp2.set_xticklabels([round(x, 2) for x in linspace(0, nSecs, nTicks)])\n",
    "sp2.set_ylabel('FREQ')\n",
    "maxFreq = (fs / 2)\n",
    "nTicks = maxFreq / 1000 + 1                     # add 1 to include freq=0\n",
    "sp2.set_yticks(linspace(0, 1, nTicks))\n",
    "sp2.set_yticklabels(linspace(0, maxFreq, nTicks));\n",
    "sp2.autoscale(tight='both')\n",
    " "
   ]
  },
  {
   "cell_type": "code",
   "execution_count": null,
   "metadata": {},
   "outputs": [],
   "source": [
    "from IPython import display\n",
    "from scipy.signal import freqs\n",
    "display.HTML(\"<audio controls><source src='{}'></audio>\".format('media/assassin.wav'))"
   ]
  },
  {
   "cell_type": "markdown",
   "metadata": {},
   "source": [
    "REMOVE DC OFFSET FROM SIGNAL"
   ]
  },
  {
   "cell_type": "code",
   "execution_count": null,
   "metadata": {},
   "outputs": [],
   "source": [
    "DC = np.mean(signal)\n",
    "newSignal = signal - DC                 # create a new signal, preserving old\n",
    "print ('DC               ==> ', DC)\n",
    "print ('mean(newSignal)  ==> ', np.mean(newSignal))\n",
    " "
   ]
  },
  {
   "cell_type": "code",
   "execution_count": null,
   "metadata": {},
   "outputs": [],
   "source": [
    "from numpy import linspace\n",
    " \n",
    "_, (sp1, sp2) = plt.subplots(1, 2, figsize=(16, 4))\n",
    " \n",
    " # plot raw signal\n",
    "sp1.plot(newSignal)\n",
    "sp1.set_title('Processed Signal')\n",
    "sp1.set_xlabel('SAMPLE\\n(a)')\n",
    "sp1.autoscale(tight='both')\n",
    " \n",
    " # plot spectrogram\n",
    "spectrum, _, _, _  = sp2.specgram(newSignal, Fs=fs)\n",
    "colorbar()\n",
    "pass\n",
    "sp2.set_title('Spectogram')\n",
    "sp2.set_xlabel('TIME\\n(b)')\n",
    "nSecs = len(newSignal) / fs\n",
    "ticksPerSec = 3\n",
    "nTicks = nSecs * ticksPerSec + 1                # add 1 to include time=0\n",
    "xTickMax = sp2.get_xticks()[-1]\n",
    "sp2.set_xticks(linspace(0, xTickMax, nTicks))\n",
    "sp2.set_xticklabels([round(x, 2) for x in linspace(0, nSecs, nTicks)])\n",
    "sp2.set_ylabel('FREQ')\n",
    "maxFreq = (fs / 2)\n",
    "nTicks = (maxFreq / 1000 + 1)                     # add 1 to include freq=0\n",
    "sp2.set_yticks(linspace(0, 1, nTicks))\n",
    "sp2.set_yticklabels(linspace(0, maxFreq, nTicks));\n",
    "sp2.autoscale(tight='both')"
   ]
  },
  {
   "cell_type": "markdown",
   "metadata": {},
   "source": [
    "Mains Hum removal"
   ]
  },
  {
   "cell_type": "code",
   "execution_count": null,
   "metadata": {},
   "outputs": [],
   "source": [
    "from scipy.signal import iirnotch, freqz, lfilter"
   ]
  },
  {
   "cell_type": "code",
   "execution_count": null,
   "metadata": {},
   "outputs": [],
   "source": [
    "b, a = iirnotch(60 / 44100, 10)"
   ]
  },
  {
   "cell_type": "code",
   "execution_count": null,
   "metadata": {},
   "outputs": [],
   "source": [
    "frequency, response = freqz(b, a)\n",
    "semilogy(frequency, abs(response))\n",
    "title('Frequency Response')\n",
    "grid()\n",
    "xlim(0, 0.1)"
   ]
  },
  {
   "cell_type": "code",
   "execution_count": null,
   "metadata": {},
   "outputs": [],
   "source": [
    "signal = sin(linspace(0, 60, 44100))\n",
    "filteredsig = lfilter(b, a, signal)"
   ]
  },
  {
   "cell_type": "code",
   "execution_count": null,
   "metadata": {},
   "outputs": [],
   "source": [
    "plot(signal)"
   ]
  },
  {
   "cell_type": "code",
   "execution_count": null,
   "metadata": {},
   "outputs": [],
   "source": [
    "plot(filteredsig)"
   ]
  },
  {
   "cell_type": "code",
   "execution_count": null,
   "metadata": {},
   "outputs": [],
   "source": []
  }
 ],
 "metadata": {
  "kernelspec": {
   "display_name": "Python 3",
   "language": "python",
   "name": "python3"
  },
  "language_info": {
   "codemirror_mode": {
    "name": "ipython",
    "version": 3
   },
   "file_extension": ".py",
   "mimetype": "text/x-python",
   "name": "python",
   "nbconvert_exporter": "python",
   "pygments_lexer": "ipython3",
   "version": "3.7.6"
  }
 },
 "nbformat": 4,
 "nbformat_minor": 2
}
